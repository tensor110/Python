{
 "cells": [
  {
   "cell_type": "code",
   "execution_count": 3,
   "metadata": {},
   "outputs": [
    {
     "name": "stdout",
     "output_type": "stream",
     "text": [
      "[[1 2]\n",
      " [3 4]]\n",
      "[[2 4]\n",
      " [6 8]]\n",
      "[[0 0]\n",
      " [0 0]]\n",
      "[[ 7 10]\n",
      " [15 22]]\n",
      "[[ 7 10]\n",
      " [15 22]]\n"
     ]
    }
   ],
   "source": [
    "# Matrix in numpy \n",
    "import numpy as np\n",
    "# matrix declaration \n",
    "arr = np.matrix([[1,2],[3,4]])\n",
    "arr2 = np.matrix([[1,2],[3,4]])\n",
    "print(arr)\n",
    "# matrix addititon \n",
    "print(arr+arr2)\n",
    "print(arr-arr2)\n",
    "print(arr*arr2)\n",
    "print(arr.dot(arr2))"
   ]
  },
  {
   "cell_type": "code",
   "execution_count": 9,
   "metadata": {},
   "outputs": [
    {
     "name": "stdout",
     "output_type": "stream",
     "text": [
      "[[1 2 3]\n",
      " [4 5 6]]\n",
      "[[1 4]\n",
      " [2 5]\n",
      " [3 6]]\n",
      "[[1 4]\n",
      " [2 5]\n",
      " [3 6]]\n",
      "[[1 2]\n",
      " [3 4]]\n",
      "[[1 3]\n",
      " [2 4]]\n",
      "[[-2.   1. ]\n",
      " [ 1.5 -0.5]]\n",
      "[[ 7 10]\n",
      " [15 22]]\n",
      "-2.0000000000000004\n"
     ]
    }
   ],
   "source": [
    "# Matrix function \n",
    "\n",
    "var = np.matrix([[1,2,3],[4,5,6]])\n",
    "print(var)\n",
    "# Transpose -> transpose(array)\n",
    "print(np.transpose(var))\n",
    "print(var.T)\n",
    "\n",
    "var2 = np.matrix([[1,2],[3,4]])\n",
    "print(var2)\n",
    "# Swapaxes -> swapaxes(array,axis-1, axis-2)\n",
    "print(np.swapaxes(var2,1,0))\n",
    "\n",
    "# Inverse \n",
    "print(np.linalg.inv(var2))\n",
    "\n",
    "# Power -> matrix_power(array, power)\n",
    "print(np.linalg.matrix_power(var2, 2))\n",
    "\n",
    "# Determinant -> \n",
    "print(np.linalg.det(var2))"
   ]
  }
 ],
 "metadata": {
  "kernelspec": {
   "display_name": "Python 3",
   "language": "python",
   "name": "python3"
  },
  "language_info": {
   "codemirror_mode": {
    "name": "ipython",
    "version": 3
   },
   "file_extension": ".py",
   "mimetype": "text/x-python",
   "name": "python",
   "nbconvert_exporter": "python",
   "pygments_lexer": "ipython3",
   "version": "3.11.4"
  }
 },
 "nbformat": 4,
 "nbformat_minor": 2
}
