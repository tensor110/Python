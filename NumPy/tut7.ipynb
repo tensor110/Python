{
 "cells": [
  {
   "cell_type": "code",
   "execution_count": 11,
   "metadata": {},
   "outputs": [
    {
     "name": "stdout",
     "output_type": "stream",
     "text": [
      "[[1 2 3 4]\n",
      " [1 2 3 4]]\n",
      "(2, 4)\n",
      "[[[[1 2 3 4]]]]\n",
      "4\n",
      "(1, 1, 1, 4)\n",
      "[ 1  2  3  4  5  6  7  8  9 10 11 12]\n",
      "1\n",
      "[[ 1  2  3  4]\n",
      " [ 5  6  7  8]\n",
      " [ 9 10 11 12]]\n",
      "2\n",
      "[[[ 1  2]\n",
      "  [ 3  4]\n",
      "  [ 5  6]]\n",
      "\n",
      " [[ 7  8]\n",
      "  [ 9 10]\n",
      "  [11 12]]]\n",
      "3\n",
      "[ 1  2  3  4  5  6  7  8  9 10 11 12]\n",
      "1\n"
     ]
    }
   ],
   "source": [
    "# Shape and Reshaping of Array \n",
    "import numpy as np\n",
    "arr = np.array([[1,2,3,4], [1,2,3,4]])\n",
    "print(arr)\n",
    "print(arr.shape) # Simply no. of commas + 1\n",
    "arr1= np.array([1,2,3,4], ndmin=4)\n",
    "print(arr1)\n",
    "print(arr1.ndim)\n",
    "print(arr1.shape)\n",
    "\n",
    "# Reshaping\n",
    "var = np.array([1,2,3,4,5,6,7,8,9,10,11,12])\n",
    "print(var)\n",
    "print(var.ndim)\n",
    "# Reshaping to 2-D Array\n",
    "x = var.reshape(3,4)  #reshape(no. of rows, no. of columns)\n",
    "print(x)\n",
    "print(x.ndim)\n",
    "# Reshaping to 2-D Array\n",
    "y = var.reshape(2,3,2) \n",
    "print(y)\n",
    "print(y.ndim)\n",
    "\n",
    "# Reshaping the 3-D arrar to 1-D array\n",
    "z= y.reshape(-1)\n",
    "print(z)\n",
    "print(z.ndim)"
   ]
  }
 ],
 "metadata": {
  "kernelspec": {
   "display_name": "Python 3",
   "language": "python",
   "name": "python3"
  },
  "language_info": {
   "codemirror_mode": {
    "name": "ipython",
    "version": 3
   },
   "file_extension": ".py",
   "mimetype": "text/x-python",
   "name": "python",
   "nbconvert_exporter": "python",
   "pygments_lexer": "ipython3",
   "version": "3.11.4"
  }
 },
 "nbformat": 4,
 "nbformat_minor": 2
}
