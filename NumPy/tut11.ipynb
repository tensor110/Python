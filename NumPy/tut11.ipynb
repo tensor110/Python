{
 "cells": [
  {
   "cell_type": "code",
   "execution_count": 3,
   "metadata": {},
   "outputs": [
    {
     "name": "stdout",
     "output_type": "stream",
     "text": [
      "Array=  [ 1  2  3 40  5]\n",
      "Copied Array=  [1 2 3 4 5]\n",
      "Viewed Array=  [ 1  2  3 40  5]\n"
     ]
    }
   ],
   "source": [
    "# Copy vs view \n",
    "import numpy as np\n",
    "arr = np.array([1,2,3,4,5])\n",
    "coarr = arr.copy()\n",
    "viarr = arr.view()\n",
    "arr[3]= 40\n",
    "print(\"Array= \", arr)\n",
    "print(\"Copied Array= \", coarr)\n",
    "print(\"Viewed Array= \", viarr)"
   ]
  },
  {
   "cell_type": "code",
   "execution_count": 8,
   "metadata": {},
   "outputs": [
    {
     "name": "stdout",
     "output_type": "stream",
     "text": [
      "[[ 1  2  3  4  5]\n",
      " [ 6  7  8  9 10]]\n",
      "[[ 1  6]\n",
      " [ 2  7]\n",
      " [ 3  8]\n",
      " [ 4  9]\n",
      " [ 5 10]]\n",
      "[ 1  2  3  4  5  6  7  8  9 10]\n",
      "[[ 1  2  3  4  5]\n",
      " [ 6  7  8  9 10]]\n",
      "[[[ 1  6]\n",
      "  [ 2  7]\n",
      "  [ 3  8]\n",
      "  [ 4  9]\n",
      "  [ 5 10]]]\n"
     ]
    }
   ],
   "source": [
    "# Joining arrays in numpy \n",
    "# 1-D Array \n",
    "arr1 = np.array([1,2,3,4])\n",
    "arr2 = np.array([5,6,7])\n",
    "narr = np.concatenate((arr1,arr2))\n",
    "# print(narr)\n",
    "# 2-D Array \n",
    "arr1 = np.array([[1,2,3], [4,5,6]])\n",
    "arr2 = np.array([[7,8,9], [10,11,12]])\n",
    "narr1 = np.concatenate((arr1,arr2))  #Default axis = 0\n",
    "narr2 = np.concatenate((arr1,arr2), axis = 1)\n",
    "# print(narr1)\n",
    "# print(narr2)\n",
    "\n",
    "# Joining using stack()\n",
    "var1 = np.array([1,2,3,4,5])\n",
    "var2= np.array([6,7,8,9,10])\n",
    "a_new = np.stack((var1,var2),axis = 0)\n",
    "a_new0 = np.stack((var1,var2),axis = 1)\n",
    "a_new1 = np.hstack((var1,var2))  #row\n",
    "a_new2 = np.vstack((var1,var2))  #column\n",
    "a_new3 = np.dstack((var1,var2))  #height\n",
    "print(a_new)\n",
    "print(a_new0)\n",
    "print(a_new1)\n",
    "print(a_new2)\n",
    "print(a_new3)\n"
   ]
  },
  {
   "cell_type": "code",
   "execution_count": 17,
   "metadata": {},
   "outputs": [
    {
     "name": "stdout",
     "output_type": "stream",
     "text": [
      "[array([1, 2]), array([3, 4]), array([5, 6])]\n",
      "[1 2]\n",
      "[array([[1, 2, 3]]), array([[4, 5, 6]]), array([], shape=(0, 3), dtype=int32)]\n",
      "[array([[1],\n",
      "       [4]]), array([[2],\n",
      "       [5]]), array([[3],\n",
      "       [6]])]\n"
     ]
    }
   ],
   "source": [
    "# Splitng of array \n",
    "ar = np.array([1,2,3,4,5,6])\n",
    "var = np.array_split(ar, 3)\n",
    "print(var)\n",
    "print(var[0])\n",
    "\n",
    "ar1 = np.array([[1,2,3],[4,5,6]])\n",
    "varr1 = np.array_split(ar1, 3)\n",
    "varr2 = np.array_split(ar1, 3,axis = 1)\n",
    "print(varr1)\n",
    "print(varr2)\n"
   ]
  }
 ],
 "metadata": {
  "kernelspec": {
   "display_name": "Python 3",
   "language": "python",
   "name": "python3"
  },
  "language_info": {
   "codemirror_mode": {
    "name": "ipython",
    "version": 3
   },
   "file_extension": ".py",
   "mimetype": "text/x-python",
   "name": "python",
   "nbconvert_exporter": "python",
   "pygments_lexer": "ipython3",
   "version": "3.11.4"
  }
 },
 "nbformat": 4,
 "nbformat_minor": 2
}
