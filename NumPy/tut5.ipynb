{
 "cells": [
  {
   "cell_type": "code",
   "execution_count": 2,
   "metadata": {},
   "outputs": [
    {
     "name": "stdout",
     "output_type": "stream",
     "text": [
      "Data type of arr1 is int32\n",
      "Data type of arr2 is <U1\n",
      "Data type of arr3 is <U11\n"
     ]
    }
   ],
   "source": [
    "# Data type of NumPy Array\n",
    "import numpy as np\n",
    "arr1 = np.array([1,2,3,4,15])\n",
    "print(\"Data type of arr1 is\", arr1.dtype)\n",
    "arr2 = np.array([\"A\", \"G\", \"T\", \"F\"])\n",
    "print(\"Data type of arr2 is\", arr2.dtype)\n",
    "arr3 = np.array([\"A\", \"G\", \"T\", \"F\", 1,2,3,4,15])\n",
    "print(\"Data type of arr3 is\", arr3.dtype)"
   ]
  },
  {
   "cell_type": "code",
   "execution_count": 8,
   "metadata": {},
   "outputs": [
    {
     "name": "stdout",
     "output_type": "stream",
     "text": [
      "int8\n",
      "[1 2 3 4]\n",
      "float32\n",
      "[1. 2. 3. 4.]\n",
      "int32\n",
      "float32\n",
      "[1 2 3 4]\n",
      "[1. 2. 3. 4.]\n",
      "[1. 2. 3. 4.]\n",
      "float64\n"
     ]
    },
    {
     "ename": "",
     "evalue": "",
     "output_type": "error",
     "traceback": [
      "\u001b[1;31mThe Kernel crashed while executing code in the the current cell or a previous cell. Please review the code in the cell(s) to identify a possible cause of the failure. Click <a href='https://aka.ms/vscodeJupyterKernelCrash'>here</a> for more info. View Jupyter <a href='command:jupyter.viewOutput'>log</a> for further details."
     ]
    }
   ],
   "source": [
    "# Changing Data types \n",
    "# Method 1 \n",
    "x = np.array([1,2,3,4], dtype = np.int8)\n",
    "print(x.dtype)\n",
    "print(x)\n",
    "# Method 2\n",
    "y = np.array([1,2,3,4], dtype = \"f\")\n",
    "print(y.dtype)\n",
    "print(y)\n",
    "# Method 3\n",
    "z = np.array([1,2,3,4])\n",
    "new = np.float32(z)\n",
    "print(z.dtype)\n",
    "print(new.dtype)\n",
    "print(z)\n",
    "print(new)\n",
    "# Method 4 \n",
    "new1= z.astype(float)\n",
    "print(new1)\n",
    "print(new1.dtype)"
   ]
  }
 ],
 "metadata": {
  "kernelspec": {
   "display_name": "Python 3",
   "language": "python",
   "name": "python3"
  },
  "language_info": {
   "codemirror_mode": {
    "name": "ipython",
    "version": 3
   },
   "file_extension": ".py",
   "mimetype": "text/x-python",
   "name": "python",
   "nbconvert_exporter": "python",
   "pygments_lexer": "ipython3",
   "version": "3.11.4"
  }
 },
 "nbformat": 4,
 "nbformat_minor": 2
}
