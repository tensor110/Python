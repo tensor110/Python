{
 "cells": [
  {
   "cell_type": "code",
   "execution_count": 6,
   "metadata": {},
   "outputs": [
    {
     "name": "stdout",
     "output_type": "stream",
     "text": [
      "[4 5 6 7]\n",
      "[ 6  8 10 12]\n",
      "[ 6  8 10 12]\n",
      "[1 0 0 0]\n"
     ]
    }
   ],
   "source": [
    "# Arithmetic Operation\n",
    "import numpy as np\n",
    "arr1 = np.array([1, 2, 3, 4])\n",
    "ans1= arr1 + 3      # We can do -, *, /, %, ** too\n",
    "print(ans1)\n",
    "arr2 = np.array([5, 6, 7, 8])\n",
    "ans2 = arr1 + arr2\n",
    "print(ans2)\n",
    "ans3 = np.add(arr1, arr2)\n",
    "print(ans3)\n",
    "# Reciprocal \n",
    "rec = np.reciprocal(arr1)\n",
    "print(rec)"
   ]
  },
  {
   "cell_type": "code",
   "execution_count": 7,
   "metadata": {},
   "outputs": [
    {
     "name": "stdout",
     "output_type": "stream",
     "text": [
      "Minimum element in the array is 1 Index is 2\n",
      "Maximum element in the array is 5 Index is 3\n",
      "[1 2]\n",
      "[2 1 2]\n",
      "Sqrt =  [1.73205081 2.         1.         2.23606798 1.41421356 2.\n",
      " 2.23606798 1.41421356]\n",
      "Sin =  [ 0.14112001 -0.7568025   0.84147098 -0.95892427  0.90929743 -0.7568025\n",
      " -0.95892427  0.90929743]\n",
      "Cos =  [-0.9899925  -0.65364362  0.54030231  0.28366219 -0.41614684 -0.65364362\n",
      "  0.28366219 -0.41614684]\n",
      "Cummiltive sum =  [ 3  7  8 13 15 19 24 26]\n"
     ]
    },
    {
     "ename": "",
     "evalue": "",
     "output_type": "error",
     "traceback": [
      "\u001b[1;31mThe Kernel crashed while executing code in the the current cell or a previous cell. Please review the code in the cell(s) to identify a possible cause of the failure. Click <a href='https://aka.ms/vscodeJupyterKernelCrash'>here</a> for more info. View Jupyter <a href='command:jupyter.viewOutput'>log</a> for further details."
     ]
    }
   ],
   "source": [
    "# Arithmetic Functions\n",
    "# min(), max(), argmin()\n",
    "import numpy as np\n",
    "arr = np.array([3,4,1,5,2,4,5,2])\n",
    "print(\"Minimum element in the array is\", np.min(arr), \"Index is\", np.argmin(arr))\n",
    "print(\"Maximum element in the array is\", np.max(arr), \"Index is\", np.argmax(arr))\n",
    "\n",
    "# In 2-D array axis = 0 -> column\n",
    "#              axis = 1 -> row\n",
    "arr1 = np.array([[2,1,9], [7,4,2]])\n",
    "print(np.min(arr1, axis = 1))\n",
    "print(np.min(arr1, axis = 0))\n",
    "\n",
    "# sqrt(), sin(), cos(), cumsum()\n",
    "print(\"Sqrt = \",np.sqrt(arr))\n",
    "print(\"Sin = \",np.sin(arr))\n",
    "print(\"Cos = \",np.cos(arr))\n",
    "print(\"Cummiltive sum = \",np.cumsum(arr))"
   ]
  }
 ],
 "metadata": {
  "kernelspec": {
   "display_name": "Python 3",
   "language": "python",
   "name": "python3"
  },
  "language_info": {
   "codemirror_mode": {
    "name": "ipython",
    "version": 3
   },
   "file_extension": ".py",
   "mimetype": "text/x-python",
   "name": "python",
   "nbconvert_exporter": "python",
   "pygments_lexer": "ipython3",
   "version": "3.11.4"
  }
 },
 "nbformat": 4,
 "nbformat_minor": 2
}
