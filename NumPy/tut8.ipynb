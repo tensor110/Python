{
 "cells": [
  {
   "cell_type": "code",
   "execution_count": 3,
   "metadata": {},
   "outputs": [
    {
     "name": "stdout",
     "output_type": "stream",
     "text": [
      "[1 2 3]\n",
      "(3,)\n",
      "[[1]\n",
      " [2]\n",
      " [3]]\n",
      "(3, 1)\n",
      "[[2 3 4]\n",
      " [3 4 5]\n",
      " [4 5 6]]\n"
     ]
    }
   ],
   "source": [
    "# Broadcasting \n",
    "# Rules - Array has same dimension or 1 in the shape eg: ((1,3) & (3,1)), (2,3) & (2,1)\n",
    "import numpy as np\n",
    "arr = np.array([1,2,3])\n",
    "print(arr)\n",
    "print(arr.shape)\n",
    "arr1 = np.array([[1], [2], [3]])\n",
    "print(arr1)\n",
    "print(arr1.shape)\n",
    "print(arr + arr1)\n"
   ]
  }
 ],
 "metadata": {
  "kernelspec": {
   "display_name": "Python 3",
   "language": "python",
   "name": "python3"
  },
  "language_info": {
   "codemirror_mode": {
    "name": "ipython",
    "version": 3
   },
   "file_extension": ".py",
   "mimetype": "text/x-python",
   "name": "python",
   "nbconvert_exporter": "python",
   "pygments_lexer": "ipython3",
   "version": "3.11.4"
  }
 },
 "nbformat": 4,
 "nbformat_minor": 2
}
