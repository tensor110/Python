{
 "cells": [
  {
   "cell_type": "code",
   "execution_count": 7,
   "metadata": {},
   "outputs": [
    {
     "name": "stdout",
     "output_type": "stream",
     "text": [
      "8\n",
      "8\n",
      "7\n",
      "2 to 5: [2 3 4 5]\n",
      "2 to end: [2 3 4 5 6 7]\n",
      "start to 5: [1 2 3 4 5]\n",
      "step 2: [2 4 6]\n",
      "7 to 9 [7 8 9]\n"
     ]
    }
   ],
   "source": [
    "# Indexing and Slicing in NumPy Arrays \n",
    "import numpy as np \n",
    "arr1 = np.array([9,8,7,6])\n",
    "#                 0,1,2,3\n",
    "#                -4,-3,-2,-1\n",
    "print(arr1[1])\n",
    "print(arr1[-3])\n",
    "\n",
    "arr2 = np.array([[9,8,7], [5,6,7]])\n",
    "#            (0,0)(0,1),(0,2)  (1,0),(1,1),(1,2)\n",
    "print(arr2[0,2])\n",
    "\n",
    "# Slicing  [start, stop+1, step]\n",
    "var = np.array([1,2,3,4,5,6,7])\n",
    "#               0,1,2,3,4,5,6\n",
    "print(\"2 to 5:\", var[1:5]) \n",
    "print(\"2 to end:\", var[1:]) \n",
    "print(\"start to 5:\", var[:5]) \n",
    "print(\"step 2:\", var[1:6:2]) \n",
    "# In 2-D Array \n",
    "var1= np.array([[1,2,3,4,5],[6,7,8,9,10],[11,12,13,14,15]])\n",
    "# slicing -> [position,[start, stop+1, step]]\n",
    "print(\"7 to 9\", var1[1,1:4])\n"
   ]
  }
 ],
 "metadata": {
  "kernelspec": {
   "display_name": "Python 3",
   "language": "python",
   "name": "python3"
  },
  "language_info": {
   "codemirror_mode": {
    "name": "ipython",
    "version": 3
   },
   "file_extension": ".py",
   "mimetype": "text/x-python",
   "name": "python",
   "nbconvert_exporter": "python",
   "pygments_lexer": "ipython3",
   "version": "3.11.4"
  }
 },
 "nbformat": 4,
 "nbformat_minor": 2
}
