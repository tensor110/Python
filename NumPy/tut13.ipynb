{
 "cells": [
  {
   "cell_type": "code",
   "execution_count": 31,
   "metadata": {},
   "outputs": [
    {
     "name": "stdout",
     "output_type": "stream",
     "text": [
      "[1 2 3 4 5 6]\n",
      "[ 1  2 34  3  4  5  6]\n",
      "[ 1  2 34  3  4 34  5  6]\n",
      "[1 2 3 3 4 3 5 6]\n",
      "[1 2 6 3 4 5 6]\n",
      "[1.  2.  3.  4.  5.  6.  7.5]\n",
      "[[ 1  2  3]\n",
      " [ 4  5  6]\n",
      " [ 2  3 40]]\n",
      "[1 2 4 5 6]\n"
     ]
    }
   ],
   "source": [
    "# Insertion\n",
    "import numpy as np\n",
    "arr = np.array([1,2,3,4,5,6])\n",
    "print(arr)\n",
    "v1 = np.insert(arr,2,34)\n",
    "v2 = np.insert(arr,(2,4),34)\n",
    "v3 = np.insert(arr,(2,4),3.4)\n",
    "print(v1)\n",
    "print(v2)\n",
    "print(v3)\n",
    "#In 2-D array\n",
    "arr2 = np.array([[1,2,3],[4,5,6]])\n",
    "y1= np.insert(arr2, 2, 6)\n",
    "print(y1)\n",
    "\n",
    "# Append\n",
    "v4 = np.append(arr,7.5)\n",
    "print(v4)\n",
    "#In 2-D array\n",
    "y2 = np.append(arr2,[[2,3,40]], axis=0)\n",
    "print(y2)\n",
    "# print(y3)\n",
    "\n",
    "# Delete -> np.delete(array,position)\n",
    "d = np.delete(arr, 2)\n",
    "print(d)"
   ]
  }
 ],
 "metadata": {
  "kernelspec": {
   "display_name": "Python 3",
   "language": "python",
   "name": "python3"
  },
  "language_info": {
   "codemirror_mode": {
    "name": "ipython",
    "version": 3
   },
   "file_extension": ".py",
   "mimetype": "text/x-python",
   "name": "python",
   "nbconvert_exporter": "python",
   "pygments_lexer": "ipython3",
   "version": "3.11.4"
  }
 },
 "nbformat": 4,
 "nbformat_minor": 2
}
