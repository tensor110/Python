{
 "cells": [
  {
   "cell_type": "code",
   "execution_count": 9,
   "metadata": {},
   "outputs": [
    {
     "name": "stdout",
     "output_type": "stream",
     "text": [
      "[0.8869215  0.97684191 0.69657612 0.46184171]\n",
      "[-0.0494542  -0.06992191 -0.15228731  0.64835636]\n",
      "[0.59859721 1.48521533 2.18509591 0.80307273]\n",
      "[ 4 11  7 11  8]\n"
     ]
    }
   ],
   "source": [
    "# NumPy array with random numbers \n",
    "import numpy as np\n",
    "# rand() -> This function is used to generate a random vlaue between 0 to 1\n",
    "ar1 = np.random.rand(4)\n",
    "print(ar1)\n",
    "# randn() -> This function is used to generate a random vlaue close to 0. This may return positive or negative numbers as well\n",
    "ar2 = np.random.randn(4)\n",
    "print(ar2)\n",
    "# ranf() -> This function is used to generate a random vlaue in the interval [0.0, 1.0)\n",
    "ar3 = np.random.randn(4)\n",
    "print(ar3)\n",
    "# randint() -> This function is used to generate a random vlaue between a given range\n",
    "randit(min, max, no. of numbers)\n",
    "ar4 = np.random.randint(3,13,5)\n",
    "print(ar4)"
   ]
  }
 ],
 "metadata": {
  "kernelspec": {
   "display_name": "Python 3",
   "language": "python",
   "name": "python3"
  },
  "language_info": {
   "codemirror_mode": {
    "name": "ipython",
    "version": 3
   },
   "file_extension": ".py",
   "mimetype": "text/x-python",
   "name": "python",
   "nbconvert_exporter": "python",
   "pygments_lexer": "ipython3",
   "version": "3.11.4"
  }
 },
 "nbformat": 4,
 "nbformat_minor": 2
}
