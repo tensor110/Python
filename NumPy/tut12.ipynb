{
 "cells": [
  {
   "cell_type": "code",
   "execution_count": 4,
   "metadata": {},
   "outputs": [
    {
     "name": "stdout",
     "output_type": "stream",
     "text": [
      "(array([1], dtype=int64),)\n",
      "(array([1, 3, 5, 7], dtype=int64),)\n",
      "2\n",
      "2\n",
      "[2 3 4]\n"
     ]
    }
   ],
   "source": [
    "# Searching in array (REturn index2)\n",
    "import numpy as np\n",
    "arr = np.array([1,2,3,4,5,6,7,8,9])\n",
    "x = np.where(arr == 2)\n",
    "y = np.where((arr%2)==0)\n",
    "print(x)\n",
    "print(y)\n",
    "\n",
    "# Searching in sorted array \n",
    "arr1 = np.array([2,4,6,8,10,12])\n",
    "x1 = np.searchsorted(arr1,5)\n",
    "x2 = np.searchsorted(arr1,5, side = 'right')  # It will search for index from right side\n",
    "x3 = np.searchsorted(arr1,[5,7,9], side = 'left')\n",
    "print(x1)   # Retutns the index where 5 is placed so that array will be sorted\n",
    "print(x2)\n",
    "print(x3)"
   ]
  },
  {
   "cell_type": "code",
   "execution_count": 5,
   "metadata": {},
   "outputs": [
    {
     "name": "stdout",
     "output_type": "stream",
     "text": [
      "[1 2 3 4 5 6 7 8 9]\n",
      "['a' 'd' 'f' 'r']\n",
      "[[1 3 5]\n",
      " [3 6 9]\n",
      " [2 6 8]]\n"
     ]
    }
   ],
   "source": [
    "# Sorting a array \n",
    "var = np.array([4,6,2,3,1,5,9,7,8])\n",
    "print(np.sort(var))\n",
    "\n",
    "var1= np.array(['f', 'a', 'd', 'r'])\n",
    "print(np.sort(var1))\n",
    "\n",
    "var2 = np.array([[5,1,3],[9,6,3],[2,6,8]])\n",
    "print(np.sort(var2))"
   ]
  },
  {
   "cell_type": "code",
   "execution_count": 6,
   "metadata": {},
   "outputs": [
    {
     "name": "stdout",
     "output_type": "stream",
     "text": [
      "[2 8]\n"
     ]
    }
   ],
   "source": [
    "# Filter array \n",
    "ar= np.array([2,4,6,8])\n",
    "f = [True, False, False, True]\n",
    "new = ar[f]\n",
    "print(new)"
   ]
  },
  {
   "cell_type": "code",
   "execution_count": 5,
   "metadata": {},
   "outputs": [
    {
     "name": "stdout",
     "output_type": "stream",
     "text": [
      "[3 5 4 2 1]\n",
      "[1 2 3 4]\n",
      "(array([1, 2, 3, 4]), array([0, 1, 2, 5], dtype=int64), array([2, 3, 3, 2], dtype=int64))\n",
      "[[1 2 3]\n",
      " [4 5 6]]\n",
      "[1 2 3 4 5 6]\n",
      "[1 4 2 5 3 6]\n",
      "[1 2 3 4 5 6]\n",
      "[1 2 3 4 5 6]\n"
     ]
    }
   ],
   "source": [
    "# Shuffle the array \n",
    "import numpy as np\n",
    "yar = np.array([1,2,3,4,5])\n",
    "np.random.shuffle(yar)\n",
    "print(yar)\n",
    "\n",
    "yar1 = np.array([1,2,3,2,3,4,2,1,3,4])\n",
    "new1 = np.unique(yar1)  # Returns element for once\n",
    "new2 = np.unique(yar1, return_index= True, return_counts= True)  # returns the element and its index, no. of occurance\n",
    "print(new1)\n",
    "print(new2)\n",
    "\n",
    "# Resize an array \n",
    "yar2 = np.array([1,2,3,4,5,6])\n",
    "new3 = np.resize(yar2, (2,3))\n",
    "print(new3)\n",
    "print(new3.flatten())  # Converting a 2-D array to 1-D array\n",
    "print(new3.flatten(order= 'F'))  # Flatten in column-major order\n",
    "print(new3.flatten(order= 'C'))  # Default- Flatten in row-major order\n",
    "print(np.ravel(new3))"
   ]
  }
 ],
 "metadata": {
  "kernelspec": {
   "display_name": "Python 3",
   "language": "python",
   "name": "python3"
  },
  "language_info": {
   "codemirror_mode": {
    "name": "ipython",
    "version": 3
   },
   "file_extension": ".py",
   "mimetype": "text/x-python",
   "name": "python",
   "nbconvert_exporter": "python",
   "pygments_lexer": "ipython3",
   "version": "3.11.4"
  }
 },
 "nbformat": 4,
 "nbformat_minor": 2
}
