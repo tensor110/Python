{
 "cells": [
  {
   "cell_type": "code",
   "execution_count": 10,
   "metadata": {},
   "outputs": [
    {
     "name": "stdout",
     "output_type": "stream",
     "text": [
      "1\n",
      "2\n",
      "3\n",
      "4\n",
      "5\n",
      "6\n",
      "7\n",
      "[1 2 3 4]\n",
      "[5 6 7 8]\n",
      "Hii\n",
      "(0, 0) 1\n",
      "(0, 1) 2\n",
      "(0, 2) 3\n",
      "(0, 3) 4\n",
      "(1, 0) 5\n",
      "(1, 1) 6\n",
      "(1, 2) 7\n",
      "(1, 3) 8\n"
     ]
    }
   ],
   "source": [
    "# Itersrting numpy arrays \n",
    "import numpy as np\n",
    "var = np.array([1,2,3,4,5,6,7])\n",
    "for i in var:\n",
    "    print(i)\n",
    "var1= np.array([[1,2,3,4],[5,6,7,8]])\n",
    "for i in var1:\n",
    "    print(i)   #Will give all the rows\n",
    "for k in var1:\n",
    "    for l in k:\n",
    "        print(l)  #Will give all the elements\n",
    "for x in np.nditer(var1):\n",
    "    print(x)     #Will give all the elements\n",
    "# To print all the elements with index\n",
    "print(\"Hii\")\n",
    "for y,d in np.ndenumerate(var1):\n",
    "    print(y,d)"
   ]
  }
 ],
 "metadata": {
  "kernelspec": {
   "display_name": "Python 3",
   "language": "python",
   "name": "python3"
  },
  "language_info": {
   "codemirror_mode": {
    "name": "ipython",
    "version": 3
   },
   "file_extension": ".py",
   "mimetype": "text/x-python",
   "name": "python",
   "nbconvert_exporter": "python",
   "pygments_lexer": "ipython3",
   "version": "3.11.4"
  }
 },
 "nbformat": 4,
 "nbformat_minor": 2
}
