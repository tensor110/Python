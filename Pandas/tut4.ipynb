{
 "cells": [
  {
   "cell_type": "code",
   "execution_count": 2,
   "metadata": {},
   "outputs": [
    {
     "name": "stdout",
     "output_type": "stream",
     "text": [
      "   a  b\n",
      "0  1  5\n",
      "1  2  3\n",
      "2  3  4\n",
      "3  4  2\n",
      "4  5  1\n",
      "   a  spec  b\n",
      "0  1    20  5\n",
      "1  2    30  3\n",
      "2  3    40  4\n",
      "3  4    50  2\n",
      "4  5    60  1\n",
      "0    5\n",
      "1    3\n",
      "2    4\n",
      "3    2\n",
      "4    1\n",
      "Name: b, dtype: int64\n",
      "   spec  spec_1\n",
      "0    20     1.0\n",
      "1    30     2.0\n",
      "2    40     3.0\n",
      "3    50     NaN\n",
      "4    60     NaN\n"
     ]
    }
   ],
   "source": [
    "# Insert -> insert(location, column name, values)\n",
    "import pandas as pd\n",
    "arr = pd.DataFrame({'a':[1,2,3,4,5], 'b':[5,3,4,2,1]})\n",
    "print(arr)\n",
    "arr.insert(1, \"spec\", [20,30,40,50,60])\n",
    "print(arr)\n",
    "arr['spec_1'] = arr['a'][:3]\n",
    "# print(arr)\n",
    "\n",
    "# Delete \n",
    "arr1 = arr.pop('b')\n",
    "print(arr1)   #Print deleted column\n",
    "del arr['a']\n",
    "print(arr)"
   ]
  }
 ],
 "metadata": {
  "kernelspec": {
   "display_name": "Python 3",
   "language": "python",
   "name": "python3"
  },
  "language_info": {
   "codemirror_mode": {
    "name": "ipython",
    "version": 3
   },
   "file_extension": ".py",
   "mimetype": "text/x-python",
   "name": "python",
   "nbconvert_exporter": "python",
   "pygments_lexer": "ipython3",
   "version": "3.11.4"
  }
 },
 "nbformat": 4,
 "nbformat_minor": 2
}
