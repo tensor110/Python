{
 "cells": [
  {
   "cell_type": "code",
   "execution_count": 13,
   "metadata": {},
   "outputs": [
    {
     "data": {
      "text/html": [
       "<div>\n",
       "<style scoped>\n",
       "    .dataframe tbody tr th:only-of-type {\n",
       "        vertical-align: middle;\n",
       "    }\n",
       "\n",
       "    .dataframe tbody tr th {\n",
       "        vertical-align: top;\n",
       "    }\n",
       "\n",
       "    .dataframe thead th {\n",
       "        text-align: right;\n",
       "    }\n",
       "</style>\n",
       "<table border=\"1\" class=\"dataframe\">\n",
       "  <thead>\n",
       "    <tr style=\"text-align: right;\">\n",
       "      <th></th>\n",
       "      <th>A</th>\n",
       "      <th>B_1</th>\n",
       "      <th>C</th>\n",
       "      <th>B_2</th>\n",
       "    </tr>\n",
       "  </thead>\n",
       "  <tbody>\n",
       "    <tr>\n",
       "      <th>0</th>\n",
       "      <td>1</td>\n",
       "      <td>11</td>\n",
       "      <td>10</td>\n",
       "      <td>11</td>\n",
       "    </tr>\n",
       "    <tr>\n",
       "      <th>1</th>\n",
       "      <td>2</td>\n",
       "      <td>12</td>\n",
       "      <td>20</td>\n",
       "      <td>22</td>\n",
       "    </tr>\n",
       "    <tr>\n",
       "      <th>2</th>\n",
       "      <td>3</td>\n",
       "      <td>13</td>\n",
       "      <td>30</td>\n",
       "      <td>33</td>\n",
       "    </tr>\n",
       "    <tr>\n",
       "      <th>3</th>\n",
       "      <td>4</td>\n",
       "      <td>14</td>\n",
       "      <td>40</td>\n",
       "      <td>44</td>\n",
       "    </tr>\n",
       "  </tbody>\n",
       "</table>\n",
       "</div>"
      ],
      "text/plain": [
       "   A  B_1   C  B_2\n",
       "0  1   11  10   11\n",
       "1  2   12  20   22\n",
       "2  3   13  30   33\n",
       "3  4   14  40   44"
      ]
     },
     "execution_count": 13,
     "metadata": {},
     "output_type": "execute_result"
    }
   ],
   "source": [
    "# Join DataFrames \n",
    "import pandas as pd\n",
    "var1 = pd.DataFrame({\"A\":[1,2,3,4], \"B\":[11,12,13,14]}, index = ['a', 'b', 'c', 'd'])\n",
    "var2 = pd.DataFrame({\"C\":[10,20,30,40], \"D\":[11,22,33,44]}, index = ['a', 'b', 'c', 'd'])\n",
    "var1.join(var2)\n",
    "var3 = pd.DataFrame({\"C\":[10,20], \"D\":[11,22]}, index=['a', 'b'])\n",
    "var1.join(var3)  #NaN will be printed in placed of vacant data\n",
    "var3.join(var1)  #It will erase the 'c' and 'd' index data of var1\n",
    "# To prevent this \n",
    "var3.join(var1, how= 'right')  #NaN will be printed in placed of vacant data\n",
    "# If two suffix is same\n",
    "arr1 = pd.DataFrame({\"A\":[1,2,3,4], \"B\":[11,12,13,14]})\n",
    "arr2 = pd.DataFrame({\"C\":[10,20,30,40], \"B\":[11,22,33,44]})\n",
    "arr1.join(arr2, lsuffix= \"_1\", rsuffix='_2')"
   ]
  }
 ],
 "metadata": {
  "kernelspec": {
   "display_name": "Python 3",
   "language": "python",
   "name": "python3"
  },
  "language_info": {
   "codemirror_mode": {
    "name": "ipython",
    "version": 3
   },
   "file_extension": ".py",
   "mimetype": "text/x-python",
   "name": "python",
   "nbconvert_exporter": "python",
   "pygments_lexer": "ipython3",
   "version": "3.11.4"
  }
 },
 "nbformat": 4,
 "nbformat_minor": 2
}
