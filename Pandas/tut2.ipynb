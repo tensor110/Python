{
 "cells": [
  {
   "cell_type": "code",
   "execution_count": 10,
   "metadata": {},
   "outputs": [
    {
     "name": "stdout",
     "output_type": "stream",
     "text": [
      "   0\n",
      "0  1\n",
      "1  2\n",
      "2  3\n",
      "3  4\n",
      "4  5\n",
      "5  6\n",
      "<class 'pandas.core.frame.DataFrame'>\n",
      "   0  1  2  3\n",
      "0  1  2  3  4\n",
      "1  5  6  7  8\n",
      "   a  r  0\n",
      "0  1  5  9\n",
      "1  2  4  8\n",
      "2  3  3  7\n",
      "3  4  2  6\n",
      "4  5  1  5\n",
      "   a  0\n",
      "0  1  9\n",
      "1  2  8\n",
      "2  3  7\n",
      "3  4  6\n",
      "4  5  5\n",
      "   a  r  0\n",
      "a  1  5  9\n",
      "b  2  4  8\n",
      "c  3  3  7\n",
      "d  4  2  6\n",
      "e  5  1  5\n",
      "2\n",
      "   s  r\n",
      "0  1  1\n",
      "1  2  2\n",
      "2  3  3\n",
      "3  4  4\n"
     ]
    }
   ],
   "source": [
    "# Dataframes \n",
    "import pandas as pd\n",
    "# Using list \n",
    "l = [1,2,3,4,5,6]\n",
    "var = pd.DataFrame(l)\n",
    "print(var)\n",
    "print(type(var))\n",
    "l2 = [[1,2,3,4], [5,6,7,8]]\n",
    "arr = pd.DataFrame(l2)\n",
    "print(arr)\n",
    "\n",
    "# Using dictionary \n",
    "d = {\"a\": [1,2,3,4,5], \"r\":[5,4,3,2,1], 0: [9,8,7,6,5]}\n",
    "var1 = pd.DataFrame(d)\n",
    "print(var1)\n",
    "# To access a column \n",
    "var2 = pd.DataFrame(d, columns=[\"a\", 0])\n",
    "print(var2)\n",
    "var3 = pd.DataFrame(d, index=['a','b', 'c', 'd', 'e'])\n",
    "print(var3)\n",
    "# To access a particular element -> array[column][row]\n",
    "print(var1[\"r\"][3])\n",
    "\n",
    "# Using series \n",
    "sr = {\"s\": pd.Series([1,2,3,4]), \"r\": pd.Series([1,2,3,4])}\n",
    "arr2 = pd.DataFrame(sr)\n",
    "print(arr2)"
   ]
  }
 ],
 "metadata": {
  "kernelspec": {
   "display_name": "Python 3",
   "language": "python",
   "name": "python3"
  },
  "language_info": {
   "codemirror_mode": {
    "name": "ipython",
    "version": 3
   },
   "file_extension": ".py",
   "mimetype": "text/x-python",
   "name": "python",
   "nbconvert_exporter": "python",
   "pygments_lexer": "ipython3",
   "version": "3.11.4"
  }
 },
 "nbformat": 4,
 "nbformat_minor": 2
}
