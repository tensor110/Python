{
 "cells": [
  {
   "cell_type": "code",
   "execution_count": 14,
   "metadata": {},
   "outputs": [
    {
     "name": "stdout",
     "output_type": "stream",
     "text": [
      "a\n",
      "  Name  S1  S2\n",
      "0    a  12  23\n",
      "3    a  12  24\n",
      "6    a  18  29\n",
      "b\n",
      "  Name  S1  S2\n",
      "1    b  13  25\n",
      "8    b  19  24\n",
      "c\n",
      "  Name  S1  S2\n",
      "2    c  14  26\n",
      "4    c  15  28\n",
      "7    c  10  25\n",
      "d\n",
      "  Name  S1  S2\n",
      "5    d  17  21\n",
      "9    d  10  26\n"
     ]
    },
    {
     "data": {
      "text/plain": [
       "[('a',\n",
       "    Name  S1  S2\n",
       "  0    a  12  23\n",
       "  3    a  12  24\n",
       "  6    a  18  29),\n",
       " ('b',\n",
       "    Name  S1  S2\n",
       "  1    b  13  25\n",
       "  8    b  19  24),\n",
       " ('c',\n",
       "    Name  S1  S2\n",
       "  2    c  14  26\n",
       "  4    c  15  28\n",
       "  7    c  10  25),\n",
       " ('d',\n",
       "    Name  S1  S2\n",
       "  5    d  17  21\n",
       "  9    d  10  26)]"
      ]
     },
     "execution_count": 14,
     "metadata": {},
     "output_type": "execute_result"
    }
   ],
   "source": [
    "# GroupBy\n",
    "import pandas as pd\n",
    "var = pd.DataFrame({\"Name\": ['a', 'b', 'c', 'a', 'c', 'd', 'a', 'c', 'b', 'd'],\n",
    "                   \"S1\": [12,13,14,12,15,17,18,10,19,10],\n",
    "                   'S2': [23,25,26,24,28,21,29,25,24,26]})\n",
    "var\n",
    "#To group same elements\n",
    "var_new = var.groupby(\"Name\")\n",
    "for x,y in var_new:\n",
    "    print(x)\n",
    "    print(y)\n",
    "\n",
    "# To get details abot a particular element group\n",
    "var_new.get_group(\"d\")\n",
    "\n",
    "# To get minimum, max, mean of all groups\n",
    "var_new.min()\n",
    "var_new.max()\n",
    "var_new.mean()\n",
    "\n",
    "# Covert the data into a list\n",
    "li = list(var_new)\n",
    "li"
   ]
  },
  {
   "cell_type": "markdown",
   "metadata": {},
   "source": []
  }
 ],
 "metadata": {
  "kernelspec": {
   "display_name": "Python 3",
   "language": "python",
   "name": "python3"
  },
  "language_info": {
   "codemirror_mode": {
    "name": "ipython",
    "version": 3
   },
   "file_extension": ".py",
   "mimetype": "text/x-python",
   "name": "python",
   "nbconvert_exporter": "python",
   "pygments_lexer": "ipython3",
   "version": "3.11.4"
  }
 },
 "nbformat": 4,
 "nbformat_minor": 2
}
