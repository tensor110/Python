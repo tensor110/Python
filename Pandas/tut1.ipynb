{
 "cells": [
  {
   "cell_type": "code",
   "execution_count": 9,
   "metadata": {},
   "outputs": [
    {
     "name": "stdout",
     "output_type": "stream",
     "text": [
      "0     4\n",
      "1     5\n",
      "2    39\n",
      "3    57\n",
      "dtype: int64\n",
      "39\n",
      "a     4.0\n",
      "b     5.0\n",
      "c    39.0\n",
      "d    57.0\n",
      "dtype: float64\n",
      "name    [python, c, c++]\n",
      "rank           [2, 1, 3]\n",
      "dtype: object\n",
      "0    22\n",
      "dtype: int64\n",
      "<class 'pandas.core.series.Series'>\n",
      "1    22\n",
      "2    22\n",
      "3    22\n",
      "4    22\n",
      "5    22\n",
      "6    22\n",
      "dtype: int64\n",
      "1    44.0\n",
      "2    44.0\n",
      "3    44.0\n",
      "4    44.0\n",
      "5     NaN\n",
      "6     NaN\n",
      "dtype: float64\n"
     ]
    }
   ],
   "source": [
    "import pandas as pd\n",
    "x = [4,5,39,57]\n",
    "var = pd.Series(x)\n",
    "print(var)\n",
    "# To access an element through index no.\n",
    "print(var[2])\n",
    "# To change index and data-type and to give name\n",
    "var2 = pd.Series(x, index = ['a', 'b', 'c', 'd'], dtype= 'float')\n",
    "print(var2)\n",
    "\n",
    "# We can not only pass list but also pass dictonary etc.\n",
    "y = {'name':['python', 'c', 'c++'], 'rank':[2,1,3]}\n",
    "arr1 = pd.Series(y)\n",
    "print(arr1)\n",
    "\n",
    "# To make series with single data \n",
    "z = pd.Series(22)\n",
    "print(z)\n",
    "print(type(z))\n",
    "\n",
    "# To make single data series with multiple indexing\n",
    "z = pd.Series(22, index=[1,2,3,4,5,6])\n",
    "print(z)\n",
    "\n",
    "# To add two series \n",
    "s1 = pd.Series(22, index=[1,2,3,4,5,6])\n",
    "s2 = pd.Series(22, index=[1,2,3,4])\n",
    "print(s1+s2)"
   ]
  }
 ],
 "metadata": {
  "kernelspec": {
   "display_name": "Python 3",
   "language": "python",
   "name": "python3"
  },
  "language_info": {
   "codemirror_mode": {
    "name": "ipython",
    "version": 3
   },
   "file_extension": ".py",
   "mimetype": "text/x-python",
   "name": "python",
   "nbconvert_exporter": "python",
   "pygments_lexer": "ipython3",
   "version": "3.11.4"
  }
 },
 "nbformat": 4,
 "nbformat_minor": 2
}
